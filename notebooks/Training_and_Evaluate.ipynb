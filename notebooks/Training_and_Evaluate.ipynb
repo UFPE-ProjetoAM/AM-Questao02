{
  "nbformat": 4,
  "nbformat_minor": 0,
  "metadata": {
    "colab": {
      "provenance": []
    },
    "kernelspec": {
      "name": "python3",
      "display_name": "Python 3"
    },
    "language_info": {
      "name": "python"
    }
  },
  "cells": [
    {
      "cell_type": "markdown",
      "source": [
        "# Pipeline of Training and Evaluation Machine Learning Models"
      ],
      "metadata": {
        "id": "hvPQfhDbyAHE"
      }
    },
    {
      "cell_type": "markdown",
      "source": [
        "### Requirements"
      ],
      "metadata": {
        "id": "cUN-Mik5zSHo"
      }
    },
    {
      "cell_type": "code",
      "execution_count": 148,
      "metadata": {
        "id": "zcB0lgofx45r",
        "outputId": "63cf17df-fa42-4939-e0f2-20d269903917",
        "colab": {
          "base_uri": "https://localhost:8080/"
        }
      },
      "outputs": [
        {
          "output_type": "stream",
          "name": "stdout",
          "text": [
            "Drive already mounted at /content/drive; to attempt to forcibly remount, call drive.mount(\"/content/drive\", force_remount=True).\n"
          ]
        }
      ],
      "source": [
        "from dataclasses import dataclass\n",
        "from google.colab import drive\n",
        "from sklearn.model_selection import GridSearchCV\n",
        "from sklearn.metrics import accuracy_score, f1_score, recall_score, precision_score\n",
        "from sklearn.model_selection import train_test_split\n",
        "from pathlib import Path\n",
        "import pandas as pd\n",
        "import numpy as np\n",
        "import joblib\n",
        "import pickle\n",
        "\n",
        "drive.mount('/content/drive')"
      ]
    },
    {
      "cell_type": "code",
      "source": [
        "model_path = \"/content/drive/MyDrive/Aulas/AprendizadoDeMáquina/Projeto/Dataset/Models\"\n",
        "data_path = \"/content/drive/MyDrive/Aulas/AprendizadoDeMáquina/Projeto/Dataset/CrossValidation\"\n",
        "results_path = \"/content/drive/MyDrive/Aulas/AprendizadoDeMáquina/Projeto/Dataset/Results\""
      ],
      "metadata": {
        "id": "v1ybrAo44uHF"
      },
      "execution_count": 149,
      "outputs": []
    },
    {
      "cell_type": "markdown",
      "source": [
        "## Configurations"
      ],
      "metadata": {
        "id": "3kzT-mIYzq_k"
      }
    },
    {
      "cell_type": "code",
      "source": [
        "#@markdown ### Algoritmo:\n",
        "selected_model = \"LR\" #@param [\"GB\", \"PW\", \"KNN\", \"LR\"]\n",
        "step = \"hyper\" #@param [\"hyper\", \"train\", \"test\"]\n",
        "dataset_name = \"mfeat_fac\" #@param [\"mfeat_fac\", \"mfeat_fou\", \"mfeat_zer\"]\n",
        "repeat_id_start = 1 # @param {type:\"slider\", min:1, max:30, step:1}\n",
        "repeat_id_end = 2 # @param {type:\"slider\", min:1, max:30, step:1}\n",
        "fold_id_start = 1 # @param {type:\"slider\", min:1, max:10, step:1}\n",
        "fold_id_end = 2 # @param {type:\"slider\", min:1, max:10, step:1}\n",
        "\n",
        "actual_model = None"
      ],
      "metadata": {
        "id": "m2Ro7KHuzc-d"
      },
      "execution_count": 150,
      "outputs": []
    },
    {
      "cell_type": "markdown",
      "source": [
        "### Models"
      ],
      "metadata": {
        "id": "Q9nC4BUd1vsI"
      }
    },
    {
      "cell_type": "code",
      "source": [
        "from numpy.core.fromnumeric import repeat\n",
        "@dataclass\n",
        "class Model:\n",
        "  model: any = None\n",
        "  name: str = \"\"\n",
        "\n",
        "  def params(self):\n",
        "    pass\n",
        "\n",
        "  def load_params(self):\n",
        "    complete_path = f\"{model_path}/{dataset_name}\"\n",
        "    with open(f'{complete_path}/best_params.pkl', 'rb') as f:\n",
        "      loaded_best_params = pickle.load(f)\n",
        "    self.model.set_params(**loaded_best_params)\n",
        "\n",
        "\n",
        "  def run_hyper(self, x, y):\n",
        "    grid_search = GridSearchCV(self.model, self.params(), cv=5)\n",
        "    grid_search.fit(x, y)\n",
        "    best_params = grid_search.best_params_\n",
        "    print(best_params)\n",
        "    self.model.set_params(**best_params)\n",
        "\n",
        "    complete_path = f\"{model_path}/{dataset_name}\"\n",
        "    path = Path(complete_path)\n",
        "    path.mkdir(parents=True, exist_ok=True)\n",
        "\n",
        "    with open(f'{complete_path}/best_params.pkl', 'wb') as f:\n",
        "      pickle.dump(best_params, f)\n",
        "\n",
        "  def load_model(self, repeat):\n",
        "    self.model = joblib.load(f\"{model_path}/{dataset_name}/{repeat}/{self.name}.pkl\")\n",
        "\n",
        "  def save_model(self, repeat):\n",
        "    complete_path = f\"{model_path}/{dataset_name}/{repeat}\"\n",
        "    path = Path(complete_path)\n",
        "    path.mkdir(parents=True, exist_ok=True)\n",
        "\n",
        "    _ = joblib.dump(self.model, f\"{complete_path}/{self.name}.pkl\", compress=4)\n",
        "    print(self.model, f\"{complete_path}/{self.name}\")\n",
        "\n",
        "  def train(self, x, y, repeat):\n",
        "    self.load_params()\n",
        "    self.model.fit(x, y)\n",
        "    self.save_model(repeat)\n",
        "\n",
        "  def test(self, x, repeat):\n",
        "    self.load_model(repeat)\n",
        "    return self.model.predict(x)"
      ],
      "metadata": {
        "id": "CIm0W_eDzwv7"
      },
      "execution_count": 151,
      "outputs": []
    },
    {
      "cell_type": "code",
      "source": [
        "from sklearn.linear_model import LogisticRegression as LR\n",
        "\n",
        "class VotingClassifierModel:\n",
        "  def __post_init__(self, clf1, clf2, clf3):\n",
        "    self.ensemble_clf = VotingClassifier(estimators=[\n",
        "        ('gnb1', clf1), ('gnb2', clf2), ('gnb3', clf3)], voting='hard')\n",
        "\n",
        "  def train(x, y):\n",
        "    return self.ensemble_clf.fit(x, y)\n",
        "\n",
        "  def test(x):\n",
        "    return self.ensemble_clf.predict(x)"
      ],
      "metadata": {
        "id": "q-qTs5NX1uuB"
      },
      "execution_count": 152,
      "outputs": []
    },
    {
      "cell_type": "code",
      "source": [
        "from sklearn.linear_model import LogisticRegression as LR\n",
        "\n",
        "@dataclass\n",
        "class LogisticRegressionModel(Model):\n",
        "  def __post_init__(self):\n",
        "    self.model = LR()\n",
        "    self.name = \"LR\"\n",
        "\n",
        "  def params(self):\n",
        "    return {\n",
        "        'penalty':[\"l2\"],\n",
        "        'C':[1, 10]\n",
        "        }"
      ],
      "metadata": {
        "id": "GkADYxSGDoy0"
      },
      "execution_count": 153,
      "outputs": []
    },
    {
      "cell_type": "code",
      "source": [
        "storage_models = [\n",
        "    LogisticRegressionModel(),\n",
        "    # Others models\n",
        "    ]"
      ],
      "metadata": {
        "id": "CyF59njB5K49"
      },
      "execution_count": 154,
      "outputs": []
    },
    {
      "cell_type": "code",
      "source": [
        "for model in storage_models:\n",
        "  if model.name == selected_model:\n",
        "    actual_model = model"
      ],
      "metadata": {
        "id": "1FYghVAp5Wvs"
      },
      "execution_count": 155,
      "outputs": []
    },
    {
      "cell_type": "markdown",
      "source": [
        "### Dataset"
      ],
      "metadata": {
        "id": "5FrYcwq86ED0"
      }
    },
    {
      "cell_type": "code",
      "source": [
        "class Dataset:\n",
        "  @staticmethod\n",
        "  def get_hiper_sample():\n",
        "    df = pd.read_csv(f\"{data_path}/{dataset_name}/repeat1/split1/train_fold.csv\")\n",
        "    y = df.iloc[:, 0]\n",
        "    x = df.iloc[:, 1:]\n",
        "    x_train, x_val, y_train, y_val = train_test_split(x, y, test_size=0.2, random_state=42)\n",
        "    return x_val, y_val\n",
        "\n",
        "  @staticmethod\n",
        "  def get_sample_per_repeat_and_fold(repead_id: int, fold_id: int, is_train: bool = True):\n",
        "    split_type = \"train_fold\" if is_train else \"test_fold\"\n",
        "    df = pd.read_csv(f\"{data_path}/{dataset_name}/repeat{repead_id}/split{fold_id}/{split_type}.csv\")\n",
        "    y = df.iloc[:, 0]\n",
        "    x = df.iloc[:, 1:]\n",
        "    return x, y"
      ],
      "metadata": {
        "id": "eoXVivD26FEz"
      },
      "execution_count": 156,
      "outputs": []
    },
    {
      "cell_type": "markdown",
      "source": [
        "### Save results"
      ],
      "metadata": {
        "id": "7tmsj2z79C0G"
      }
    },
    {
      "cell_type": "code",
      "source": [
        "class SaveResults:\n",
        "\n",
        "  @staticmethod\n",
        "  def save_test_results(y_predicted, y_real, repetition, fold):\n",
        "\n",
        "    accuracy = accuracy_score(y_real, y_predicted)\n",
        "    f1 = f1_score(y_real, y_predicted, average='weighted')\n",
        "    recall = recall_score(y_real, y_predicted, average='weighted')\n",
        "    precision = precision_score(y_real, y_predicted, average='weighted')\n",
        "\n",
        "    result_df = pd.DataFrame({\n",
        "        'Repetition': [repetition],\n",
        "        'Fold': [fold],\n",
        "        'Accuracy': [accuracy],\n",
        "        'F1': [f1],\n",
        "        'Recall': [recall],\n",
        "        'Precision': [precision]\n",
        "    })\n",
        "\n",
        "    try:\n",
        "        existing_df = pd.read_csv(f\"{results_path}/results.csv\")\n",
        "        result_df = pd.concat([existing_df, result_df], ignore_index=True)\n",
        "    except FileNotFoundError:\n",
        "        pass\n",
        "\n",
        "    result_df.to_csv(f\"{results_path}/results.csv\", index=False)"
      ],
      "metadata": {
        "id": "rV2o9RjO9FlD"
      },
      "execution_count": 157,
      "outputs": []
    },
    {
      "cell_type": "markdown",
      "source": [
        "## Hyperparametrization (Grid Search)"
      ],
      "metadata": {
        "id": "A3hKPpAz5syk"
      }
    },
    {
      "cell_type": "code",
      "source": [
        "x, y = Dataset.get_hiper_sample()\n",
        "actual_model.run_hyper(x, y)"
      ],
      "metadata": {
        "id": "9LJxHfaP5v1s",
        "colab": {
          "base_uri": "https://localhost:8080/"
        },
        "outputId": "16674a61-8e56-40af-ce32-c737c0d3eae7"
      },
      "execution_count": 158,
      "outputs": [
        {
          "output_type": "stream",
          "name": "stderr",
          "text": [
            "/usr/local/lib/python3.10/dist-packages/sklearn/linear_model/_logistic.py:458: ConvergenceWarning: lbfgs failed to converge (status=1):\n",
            "STOP: TOTAL NO. of ITERATIONS REACHED LIMIT.\n",
            "\n",
            "Increase the number of iterations (max_iter) or scale the data as shown in:\n",
            "    https://scikit-learn.org/stable/modules/preprocessing.html\n",
            "Please also refer to the documentation for alternative solver options:\n",
            "    https://scikit-learn.org/stable/modules/linear_model.html#logistic-regression\n",
            "  n_iter_i = _check_optimize_result(\n",
            "/usr/local/lib/python3.10/dist-packages/sklearn/linear_model/_logistic.py:458: ConvergenceWarning: lbfgs failed to converge (status=1):\n",
            "STOP: TOTAL NO. of ITERATIONS REACHED LIMIT.\n",
            "\n",
            "Increase the number of iterations (max_iter) or scale the data as shown in:\n",
            "    https://scikit-learn.org/stable/modules/preprocessing.html\n",
            "Please also refer to the documentation for alternative solver options:\n",
            "    https://scikit-learn.org/stable/modules/linear_model.html#logistic-regression\n",
            "  n_iter_i = _check_optimize_result(\n",
            "/usr/local/lib/python3.10/dist-packages/sklearn/linear_model/_logistic.py:458: ConvergenceWarning: lbfgs failed to converge (status=1):\n",
            "STOP: TOTAL NO. of ITERATIONS REACHED LIMIT.\n",
            "\n",
            "Increase the number of iterations (max_iter) or scale the data as shown in:\n",
            "    https://scikit-learn.org/stable/modules/preprocessing.html\n",
            "Please also refer to the documentation for alternative solver options:\n",
            "    https://scikit-learn.org/stable/modules/linear_model.html#logistic-regression\n",
            "  n_iter_i = _check_optimize_result(\n",
            "/usr/local/lib/python3.10/dist-packages/sklearn/linear_model/_logistic.py:458: ConvergenceWarning: lbfgs failed to converge (status=1):\n",
            "STOP: TOTAL NO. of ITERATIONS REACHED LIMIT.\n",
            "\n",
            "Increase the number of iterations (max_iter) or scale the data as shown in:\n",
            "    https://scikit-learn.org/stable/modules/preprocessing.html\n",
            "Please also refer to the documentation for alternative solver options:\n",
            "    https://scikit-learn.org/stable/modules/linear_model.html#logistic-regression\n",
            "  n_iter_i = _check_optimize_result(\n",
            "/usr/local/lib/python3.10/dist-packages/sklearn/linear_model/_logistic.py:458: ConvergenceWarning: lbfgs failed to converge (status=1):\n",
            "STOP: TOTAL NO. of ITERATIONS REACHED LIMIT.\n",
            "\n",
            "Increase the number of iterations (max_iter) or scale the data as shown in:\n",
            "    https://scikit-learn.org/stable/modules/preprocessing.html\n",
            "Please also refer to the documentation for alternative solver options:\n",
            "    https://scikit-learn.org/stable/modules/linear_model.html#logistic-regression\n",
            "  n_iter_i = _check_optimize_result(\n",
            "/usr/local/lib/python3.10/dist-packages/sklearn/linear_model/_logistic.py:458: ConvergenceWarning: lbfgs failed to converge (status=1):\n",
            "STOP: TOTAL NO. of ITERATIONS REACHED LIMIT.\n",
            "\n",
            "Increase the number of iterations (max_iter) or scale the data as shown in:\n",
            "    https://scikit-learn.org/stable/modules/preprocessing.html\n",
            "Please also refer to the documentation for alternative solver options:\n",
            "    https://scikit-learn.org/stable/modules/linear_model.html#logistic-regression\n",
            "  n_iter_i = _check_optimize_result(\n",
            "/usr/local/lib/python3.10/dist-packages/sklearn/linear_model/_logistic.py:458: ConvergenceWarning: lbfgs failed to converge (status=1):\n",
            "STOP: TOTAL NO. of ITERATIONS REACHED LIMIT.\n",
            "\n",
            "Increase the number of iterations (max_iter) or scale the data as shown in:\n",
            "    https://scikit-learn.org/stable/modules/preprocessing.html\n",
            "Please also refer to the documentation for alternative solver options:\n",
            "    https://scikit-learn.org/stable/modules/linear_model.html#logistic-regression\n",
            "  n_iter_i = _check_optimize_result(\n",
            "/usr/local/lib/python3.10/dist-packages/sklearn/linear_model/_logistic.py:458: ConvergenceWarning: lbfgs failed to converge (status=1):\n",
            "STOP: TOTAL NO. of ITERATIONS REACHED LIMIT.\n",
            "\n",
            "Increase the number of iterations (max_iter) or scale the data as shown in:\n",
            "    https://scikit-learn.org/stable/modules/preprocessing.html\n",
            "Please also refer to the documentation for alternative solver options:\n",
            "    https://scikit-learn.org/stable/modules/linear_model.html#logistic-regression\n",
            "  n_iter_i = _check_optimize_result(\n",
            "/usr/local/lib/python3.10/dist-packages/sklearn/linear_model/_logistic.py:458: ConvergenceWarning: lbfgs failed to converge (status=1):\n",
            "STOP: TOTAL NO. of ITERATIONS REACHED LIMIT.\n",
            "\n",
            "Increase the number of iterations (max_iter) or scale the data as shown in:\n",
            "    https://scikit-learn.org/stable/modules/preprocessing.html\n",
            "Please also refer to the documentation for alternative solver options:\n",
            "    https://scikit-learn.org/stable/modules/linear_model.html#logistic-regression\n",
            "  n_iter_i = _check_optimize_result(\n",
            "/usr/local/lib/python3.10/dist-packages/sklearn/linear_model/_logistic.py:458: ConvergenceWarning: lbfgs failed to converge (status=1):\n",
            "STOP: TOTAL NO. of ITERATIONS REACHED LIMIT.\n",
            "\n",
            "Increase the number of iterations (max_iter) or scale the data as shown in:\n",
            "    https://scikit-learn.org/stable/modules/preprocessing.html\n",
            "Please also refer to the documentation for alternative solver options:\n",
            "    https://scikit-learn.org/stable/modules/linear_model.html#logistic-regression\n",
            "  n_iter_i = _check_optimize_result(\n"
          ]
        },
        {
          "output_type": "stream",
          "name": "stdout",
          "text": [
            "{'C': 1, 'penalty': 'l2'}\n"
          ]
        },
        {
          "output_type": "stream",
          "name": "stderr",
          "text": [
            "/usr/local/lib/python3.10/dist-packages/sklearn/linear_model/_logistic.py:458: ConvergenceWarning: lbfgs failed to converge (status=1):\n",
            "STOP: TOTAL NO. of ITERATIONS REACHED LIMIT.\n",
            "\n",
            "Increase the number of iterations (max_iter) or scale the data as shown in:\n",
            "    https://scikit-learn.org/stable/modules/preprocessing.html\n",
            "Please also refer to the documentation for alternative solver options:\n",
            "    https://scikit-learn.org/stable/modules/linear_model.html#logistic-regression\n",
            "  n_iter_i = _check_optimize_result(\n"
          ]
        }
      ]
    },
    {
      "cell_type": "markdown",
      "source": [
        "## Train"
      ],
      "metadata": {
        "id": "wESOEwZY5z0U"
      }
    },
    {
      "cell_type": "code",
      "source": [
        "for repeat in range(repeat_id_start, repeat_id_end):\n",
        "  for fold in range(fold_id_start, fold_id_end):\n",
        "    x, y = Dataset.get_sample_per_repeat_and_fold(repeat, fold)\n",
        "    actual_model.train(x, y, repeat)\n"
      ],
      "metadata": {
        "id": "42i7EBK-51NE",
        "colab": {
          "base_uri": "https://localhost:8080/"
        },
        "outputId": "7189ab3e-dddf-4bb1-850b-64ee833cc35a"
      },
      "execution_count": 161,
      "outputs": [
        {
          "output_type": "stream",
          "name": "stdout",
          "text": [
            "LogisticRegression(C=1) /content/drive/MyDrive/Aulas/AprendizadoDeMáquina/Projeto/Dataset/Models/mfeat_fac/1/LR\n"
          ]
        },
        {
          "output_type": "stream",
          "name": "stderr",
          "text": [
            "/usr/local/lib/python3.10/dist-packages/sklearn/linear_model/_logistic.py:458: ConvergenceWarning: lbfgs failed to converge (status=1):\n",
            "STOP: TOTAL NO. of ITERATIONS REACHED LIMIT.\n",
            "\n",
            "Increase the number of iterations (max_iter) or scale the data as shown in:\n",
            "    https://scikit-learn.org/stable/modules/preprocessing.html\n",
            "Please also refer to the documentation for alternative solver options:\n",
            "    https://scikit-learn.org/stable/modules/linear_model.html#logistic-regression\n",
            "  n_iter_i = _check_optimize_result(\n"
          ]
        }
      ]
    },
    {
      "cell_type": "markdown",
      "source": [
        "## Test"
      ],
      "metadata": {
        "id": "ceSDd-wU52o0"
      }
    },
    {
      "cell_type": "code",
      "source": [
        "for repeat in range(repeat_id_start, repeat_id_end):\n",
        "  for fold in range(fold_id_start, fold_id_end):\n",
        "    x, y = Dataset.get_sample_per_repeat_and_fold(repeat, fold, is_train=False)\n",
        "    y_predicted = actual_model.test(x,repeat)\n",
        "    SaveResults.save_test_results(y_predicted, y, repeat, fold)\n",
        "\n",
        "    #print (y_predicted)"
      ],
      "metadata": {
        "id": "xLigroKX53qL"
      },
      "execution_count": 163,
      "outputs": []
    }
  ]
}